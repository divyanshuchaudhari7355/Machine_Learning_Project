{
 "cells": [
  {
   "cell_type": "markdown",
   "id": "91fbab73",
   "metadata": {},
   "source": [
    "## Oil Spill Dataset, Data Pre- Processing and Cleaning"
   ]
  },
  {
   "cell_type": "markdown",
   "id": "0801d9ad",
   "metadata": {},
   "source": [
    "## Importing Libraries\n"
   ]
  },
  {
   "cell_type": "code",
   "execution_count": 1,
   "id": "f85c0cfa",
   "metadata": {},
   "outputs": [],
   "source": [
    "# Importing Numpy\n",
    "import numpy as np\n",
    "# Importing Matplotlib\n",
    "import matplotlib.pyplot as plt\n",
    "# plt is athe alias name for pyplot\n",
    "import pandas as pd\n",
    "# pd is the alias for pandas\n"
   ]
  },
  {
   "cell_type": "markdown",
   "id": "ae633181",
   "metadata": {},
   "source": [
    "## Loading Data into Dataframe\n"
   ]
  },
  {
   "cell_type": "code",
   "execution_count": 2,
   "id": "ab54b0e7",
   "metadata": {},
   "outputs": [],
   "source": [
    "# Loading the Dataset\n",
    "oilspill_df = pd.read_csv(\"oil_spill.csv\")"
   ]
  },
  {
   "cell_type": "markdown",
   "id": "acf155ca",
   "metadata": {},
   "source": [
    "# Q - 1 Exploring data and Performing Data Cleaning and Pre-Processing\n"
   ]
  },
  {
   "cell_type": "markdown",
   "id": "b66ef79b",
   "metadata": {},
   "source": [
    "## Performing Data Cleaning and Pre-Processing"
   ]
  },
  {
   "cell_type": "code",
   "execution_count": 3,
   "id": "6870a05d",
   "metadata": {},
   "outputs": [
    {
     "data": {
      "text/html": [
       "<div>\n",
       "<style scoped>\n",
       "    .dataframe tbody tr th:only-of-type {\n",
       "        vertical-align: middle;\n",
       "    }\n",
       "\n",
       "    .dataframe tbody tr th {\n",
       "        vertical-align: top;\n",
       "    }\n",
       "\n",
       "    .dataframe thead th {\n",
       "        text-align: right;\n",
       "    }\n",
       "</style>\n",
       "<table border=\"1\" class=\"dataframe\">\n",
       "  <thead>\n",
       "    <tr style=\"text-align: right;\">\n",
       "      <th></th>\n",
       "      <th>f_1</th>\n",
       "      <th>f_2</th>\n",
       "      <th>f_3</th>\n",
       "      <th>f_4</th>\n",
       "      <th>f_5</th>\n",
       "      <th>f_6</th>\n",
       "      <th>f_7</th>\n",
       "      <th>f_8</th>\n",
       "      <th>f_9</th>\n",
       "      <th>f_10</th>\n",
       "      <th>...</th>\n",
       "      <th>f_41</th>\n",
       "      <th>f_42</th>\n",
       "      <th>f_43</th>\n",
       "      <th>f_44</th>\n",
       "      <th>f_45</th>\n",
       "      <th>f_46</th>\n",
       "      <th>f_47</th>\n",
       "      <th>f_48</th>\n",
       "      <th>f_49</th>\n",
       "      <th>target</th>\n",
       "    </tr>\n",
       "  </thead>\n",
       "  <tbody>\n",
       "    <tr>\n",
       "      <th>0</th>\n",
       "      <td>1</td>\n",
       "      <td>2558</td>\n",
       "      <td>1506.09</td>\n",
       "      <td>456.63</td>\n",
       "      <td>90</td>\n",
       "      <td>6395000</td>\n",
       "      <td>40.88</td>\n",
       "      <td>7.89</td>\n",
       "      <td>29780.0</td>\n",
       "      <td>0.19</td>\n",
       "      <td>...</td>\n",
       "      <td>2850.00</td>\n",
       "      <td>1000.00</td>\n",
       "      <td>763.16</td>\n",
       "      <td>135.46</td>\n",
       "      <td>3.73</td>\n",
       "      <td>0</td>\n",
       "      <td>33243.19</td>\n",
       "      <td>65.74</td>\n",
       "      <td>7.95</td>\n",
       "      <td>1</td>\n",
       "    </tr>\n",
       "    <tr>\n",
       "      <th>1</th>\n",
       "      <td>2</td>\n",
       "      <td>22325</td>\n",
       "      <td>79.11</td>\n",
       "      <td>841.03</td>\n",
       "      <td>180</td>\n",
       "      <td>55812500</td>\n",
       "      <td>51.11</td>\n",
       "      <td>1.21</td>\n",
       "      <td>61900.0</td>\n",
       "      <td>0.02</td>\n",
       "      <td>...</td>\n",
       "      <td>5750.00</td>\n",
       "      <td>11500.00</td>\n",
       "      <td>9593.48</td>\n",
       "      <td>1648.80</td>\n",
       "      <td>0.60</td>\n",
       "      <td>0</td>\n",
       "      <td>51572.04</td>\n",
       "      <td>65.73</td>\n",
       "      <td>6.26</td>\n",
       "      <td>0</td>\n",
       "    </tr>\n",
       "    <tr>\n",
       "      <th>2</th>\n",
       "      <td>3</td>\n",
       "      <td>115</td>\n",
       "      <td>1449.85</td>\n",
       "      <td>608.43</td>\n",
       "      <td>88</td>\n",
       "      <td>287500</td>\n",
       "      <td>40.42</td>\n",
       "      <td>7.34</td>\n",
       "      <td>3340.0</td>\n",
       "      <td>0.18</td>\n",
       "      <td>...</td>\n",
       "      <td>1400.00</td>\n",
       "      <td>250.00</td>\n",
       "      <td>150.00</td>\n",
       "      <td>45.13</td>\n",
       "      <td>9.33</td>\n",
       "      <td>1</td>\n",
       "      <td>31692.84</td>\n",
       "      <td>65.81</td>\n",
       "      <td>7.84</td>\n",
       "      <td>1</td>\n",
       "    </tr>\n",
       "    <tr>\n",
       "      <th>3</th>\n",
       "      <td>4</td>\n",
       "      <td>1201</td>\n",
       "      <td>1562.53</td>\n",
       "      <td>295.65</td>\n",
       "      <td>66</td>\n",
       "      <td>3002500</td>\n",
       "      <td>42.40</td>\n",
       "      <td>7.97</td>\n",
       "      <td>18030.0</td>\n",
       "      <td>0.19</td>\n",
       "      <td>...</td>\n",
       "      <td>6041.52</td>\n",
       "      <td>761.58</td>\n",
       "      <td>453.21</td>\n",
       "      <td>144.97</td>\n",
       "      <td>13.33</td>\n",
       "      <td>1</td>\n",
       "      <td>37696.21</td>\n",
       "      <td>65.67</td>\n",
       "      <td>8.07</td>\n",
       "      <td>1</td>\n",
       "    </tr>\n",
       "    <tr>\n",
       "      <th>4</th>\n",
       "      <td>5</td>\n",
       "      <td>312</td>\n",
       "      <td>950.27</td>\n",
       "      <td>440.86</td>\n",
       "      <td>37</td>\n",
       "      <td>780000</td>\n",
       "      <td>41.43</td>\n",
       "      <td>7.03</td>\n",
       "      <td>3350.0</td>\n",
       "      <td>0.17</td>\n",
       "      <td>...</td>\n",
       "      <td>1320.04</td>\n",
       "      <td>710.63</td>\n",
       "      <td>512.54</td>\n",
       "      <td>109.16</td>\n",
       "      <td>2.58</td>\n",
       "      <td>0</td>\n",
       "      <td>29038.17</td>\n",
       "      <td>65.66</td>\n",
       "      <td>7.35</td>\n",
       "      <td>0</td>\n",
       "    </tr>\n",
       "  </tbody>\n",
       "</table>\n",
       "<p>5 rows × 50 columns</p>\n",
       "</div>"
      ],
      "text/plain": [
       "   f_1    f_2      f_3     f_4  f_5       f_6    f_7   f_8      f_9  f_10  \\\n",
       "0    1   2558  1506.09  456.63   90   6395000  40.88  7.89  29780.0  0.19   \n",
       "1    2  22325    79.11  841.03  180  55812500  51.11  1.21  61900.0  0.02   \n",
       "2    3    115  1449.85  608.43   88    287500  40.42  7.34   3340.0  0.18   \n",
       "3    4   1201  1562.53  295.65   66   3002500  42.40  7.97  18030.0  0.19   \n",
       "4    5    312   950.27  440.86   37    780000  41.43  7.03   3350.0  0.17   \n",
       "\n",
       "   ...     f_41      f_42     f_43     f_44   f_45  f_46      f_47   f_48  \\\n",
       "0  ...  2850.00   1000.00   763.16   135.46   3.73     0  33243.19  65.74   \n",
       "1  ...  5750.00  11500.00  9593.48  1648.80   0.60     0  51572.04  65.73   \n",
       "2  ...  1400.00    250.00   150.00    45.13   9.33     1  31692.84  65.81   \n",
       "3  ...  6041.52    761.58   453.21   144.97  13.33     1  37696.21  65.67   \n",
       "4  ...  1320.04    710.63   512.54   109.16   2.58     0  29038.17  65.66   \n",
       "\n",
       "   f_49  target  \n",
       "0  7.95       1  \n",
       "1  6.26       0  \n",
       "2  7.84       1  \n",
       "3  8.07       1  \n",
       "4  7.35       0  \n",
       "\n",
       "[5 rows x 50 columns]"
      ]
     },
     "execution_count": 3,
     "metadata": {},
     "output_type": "execute_result"
    }
   ],
   "source": [
    "# Showing the first five rows\n",
    "oilspill_df.head()\n"
   ]
  },
  {
   "cell_type": "code",
   "execution_count": 3,
   "id": "2a56d1a6",
   "metadata": {},
   "outputs": [
    {
     "data": {
      "text/plain": [
       "(937, 50)"
      ]
     },
     "execution_count": 3,
     "metadata": {},
     "output_type": "execute_result"
    }
   ],
   "source": [
    "# Showing the shape of the Dataset\n",
    "oilspill_df.shape"
   ]
  },
  {
   "cell_type": "code",
   "execution_count": 4,
   "id": "6f5caf3d",
   "metadata": {},
   "outputs": [
    {
     "data": {
      "text/plain": [
       "f_1         int64\n",
       "f_2         int64\n",
       "f_3       float64\n",
       "f_4       float64\n",
       "f_5         int64\n",
       "f_6         int64\n",
       "f_7       float64\n",
       "f_8       float64\n",
       "f_9       float64\n",
       "f_10      float64\n",
       "f_11      float64\n",
       "f_12      float64\n",
       "f_13      float64\n",
       "f_14      float64\n",
       "f_15      float64\n",
       "f_16      float64\n",
       "f_17      float64\n",
       "f_18      float64\n",
       "f_19      float64\n",
       "f_20      float64\n",
       "f_21      float64\n",
       "f_22      float64\n",
       "f_23        int64\n",
       "f_24      float64\n",
       "f_25      float64\n",
       "f_26      float64\n",
       "f_27      float64\n",
       "f_28      float64\n",
       "f_29      float64\n",
       "f_30      float64\n",
       "f_31      float64\n",
       "f_32      float64\n",
       "f_33      float64\n",
       "f_34      float64\n",
       "f_35        int64\n",
       "f_36        int64\n",
       "f_37      float64\n",
       "f_38      float64\n",
       "f_39        int64\n",
       "f_40        int64\n",
       "f_41      float64\n",
       "f_42      float64\n",
       "f_43      float64\n",
       "f_44      float64\n",
       "f_45      float64\n",
       "f_46        int64\n",
       "f_47      float64\n",
       "f_48      float64\n",
       "f_49      float64\n",
       "target      int64\n",
       "dtype: object"
      ]
     },
     "execution_count": 4,
     "metadata": {},
     "output_type": "execute_result"
    }
   ],
   "source": [
    "# Checking Datatypes of all column\n",
    "oilspill_df.dtypes"
   ]
  },
  {
   "cell_type": "code",
   "execution_count": 6,
   "id": "30fdd8b0",
   "metadata": {},
   "outputs": [
    {
     "name": "stdout",
     "output_type": "stream",
     "text": [
      "<class 'pandas.core.frame.DataFrame'>\n",
      "RangeIndex: 937 entries, 0 to 936\n",
      "Data columns (total 50 columns):\n",
      " #   Column  Non-Null Count  Dtype  \n",
      "---  ------  --------------  -----  \n",
      " 0   f_1     937 non-null    int64  \n",
      " 1   f_2     937 non-null    int64  \n",
      " 2   f_3     937 non-null    float64\n",
      " 3   f_4     937 non-null    float64\n",
      " 4   f_5     937 non-null    int64  \n",
      " 5   f_6     937 non-null    int64  \n",
      " 6   f_7     937 non-null    float64\n",
      " 7   f_8     937 non-null    float64\n",
      " 8   f_9     937 non-null    float64\n",
      " 9   f_10    937 non-null    float64\n",
      " 10  f_11    937 non-null    float64\n",
      " 11  f_12    937 non-null    float64\n",
      " 12  f_13    937 non-null    float64\n",
      " 13  f_14    937 non-null    float64\n",
      " 14  f_15    937 non-null    float64\n",
      " 15  f_16    937 non-null    float64\n",
      " 16  f_17    937 non-null    float64\n",
      " 17  f_18    937 non-null    float64\n",
      " 18  f_19    937 non-null    float64\n",
      " 19  f_20    937 non-null    float64\n",
      " 20  f_21    937 non-null    float64\n",
      " 21  f_22    937 non-null    float64\n",
      " 22  f_23    937 non-null    int64  \n",
      " 23  f_24    937 non-null    float64\n",
      " 24  f_25    937 non-null    float64\n",
      " 25  f_26    937 non-null    float64\n",
      " 26  f_27    937 non-null    float64\n",
      " 27  f_28    937 non-null    float64\n",
      " 28  f_29    937 non-null    float64\n",
      " 29  f_30    937 non-null    float64\n",
      " 30  f_31    937 non-null    float64\n",
      " 31  f_32    937 non-null    float64\n",
      " 32  f_33    937 non-null    float64\n",
      " 33  f_34    937 non-null    float64\n",
      " 34  f_35    937 non-null    int64  \n",
      " 35  f_36    937 non-null    int64  \n",
      " 36  f_37    937 non-null    float64\n",
      " 37  f_38    937 non-null    float64\n",
      " 38  f_39    937 non-null    int64  \n",
      " 39  f_40    937 non-null    int64  \n",
      " 40  f_41    937 non-null    float64\n",
      " 41  f_42    937 non-null    float64\n",
      " 42  f_43    937 non-null    float64\n",
      " 43  f_44    937 non-null    float64\n",
      " 44  f_45    937 non-null    float64\n",
      " 45  f_46    937 non-null    int64  \n",
      " 46  f_47    937 non-null    float64\n",
      " 47  f_48    937 non-null    float64\n",
      " 48  f_49    937 non-null    float64\n",
      " 49  target  937 non-null    int64  \n",
      "dtypes: float64(39), int64(11)\n",
      "memory usage: 366.1 KB\n"
     ]
    }
   ],
   "source": [
    "# Check ratings info\n",
    "oilspill_df.info()\n"
   ]
  },
  {
   "cell_type": "code",
   "execution_count": 5,
   "id": "e669c238",
   "metadata": {},
   "outputs": [
    {
     "data": {
      "text/plain": [
       "Index(['f_1', 'f_2', 'f_3', 'f_4', 'f_5', 'f_6', 'f_7', 'f_8', 'f_9', 'f_10',\n",
       "       'f_11', 'f_12', 'f_13', 'f_14', 'f_15', 'f_16', 'f_17', 'f_18', 'f_19',\n",
       "       'f_20', 'f_21', 'f_22', 'f_23', 'f_24', 'f_25', 'f_26', 'f_27', 'f_28',\n",
       "       'f_29', 'f_30', 'f_31', 'f_32', 'f_33', 'f_34', 'f_35', 'f_36', 'f_37',\n",
       "       'f_38', 'f_39', 'f_40', 'f_41', 'f_42', 'f_43', 'f_44', 'f_45', 'f_46',\n",
       "       'f_47', 'f_48', 'f_49', 'target'],\n",
       "      dtype='object')"
      ]
     },
     "execution_count": 5,
     "metadata": {},
     "output_type": "execute_result"
    }
   ],
   "source": [
    "# Checking all columns\n",
    "oilspill_df.columns"
   ]
  },
  {
   "cell_type": "code",
   "execution_count": 6,
   "id": "32b27ec8",
   "metadata": {},
   "outputs": [
    {
     "data": {
      "text/plain": [
       "0"
      ]
     },
     "execution_count": 6,
     "metadata": {},
     "output_type": "execute_result"
    }
   ],
   "source": [
    "# Check Duplicates\n",
    "oilspill_df.duplicated().sum()\n"
   ]
  },
  {
   "cell_type": "code",
   "execution_count": 7,
   "id": "b0e920cf",
   "metadata": {},
   "outputs": [
    {
     "data": {
      "text/plain": [
       "f_1       0\n",
       "f_2       0\n",
       "f_3       0\n",
       "f_4       0\n",
       "f_5       0\n",
       "f_6       0\n",
       "f_7       0\n",
       "f_8       0\n",
       "f_9       0\n",
       "f_10      0\n",
       "f_11      0\n",
       "f_12      0\n",
       "f_13      0\n",
       "f_14      0\n",
       "f_15      0\n",
       "f_16      0\n",
       "f_17      0\n",
       "f_18      0\n",
       "f_19      0\n",
       "f_20      0\n",
       "f_21      0\n",
       "f_22      0\n",
       "f_23      0\n",
       "f_24      0\n",
       "f_25      0\n",
       "f_26      0\n",
       "f_27      0\n",
       "f_28      0\n",
       "f_29      0\n",
       "f_30      0\n",
       "f_31      0\n",
       "f_32      0\n",
       "f_33      0\n",
       "f_34      0\n",
       "f_35      0\n",
       "f_36      0\n",
       "f_37      0\n",
       "f_38      0\n",
       "f_39      0\n",
       "f_40      0\n",
       "f_41      0\n",
       "f_42      0\n",
       "f_43      0\n",
       "f_44      0\n",
       "f_45      0\n",
       "f_46      0\n",
       "f_47      0\n",
       "f_48      0\n",
       "f_49      0\n",
       "target    0\n",
       "dtype: int64"
      ]
     },
     "execution_count": 7,
     "metadata": {},
     "output_type": "execute_result"
    }
   ],
   "source": [
    "# Check the presence of missing values\n",
    "oilspill_df.isnull().sum()"
   ]
  },
  {
   "cell_type": "code",
   "execution_count": 8,
   "id": "0d0cc211",
   "metadata": {},
   "outputs": [
    {
     "data": {
      "text/plain": [
       "array([1, 0], dtype=int64)"
      ]
     },
     "execution_count": 8,
     "metadata": {},
     "output_type": "execute_result"
    }
   ],
   "source": [
    "# Checking the unique elements from the column 'target'\n",
    "oilspill_df[\"target\"].unique()"
   ]
  },
  {
   "cell_type": "code",
   "execution_count": 9,
   "id": "6b5512fc",
   "metadata": {},
   "outputs": [
    {
     "data": {
      "text/plain": [
       "0    896\n",
       "1     41\n",
       "Name: target, dtype: int64"
      ]
     },
     "execution_count": 9,
     "metadata": {},
     "output_type": "execute_result"
    }
   ],
   "source": [
    "# Checking the value counts of the unique elements of column 'target'\n",
    "oilspill_df[\"target\"].value_counts()\n",
    "\n"
   ]
  },
  {
   "cell_type": "markdown",
   "id": "5bb27512",
   "metadata": {},
   "source": [
    "# Q-2 Use various methods such as Handling null values, One-Hot Encoding, Imputation, and Scaling of Data Pre-Processing where necessary."
   ]
  },
  {
   "cell_type": "markdown",
   "id": "b072411c",
   "metadata": {},
   "source": [
    "## Importing Libraries"
   ]
  },
  {
   "cell_type": "code",
   "execution_count": 10,
   "id": "627dcc0f",
   "metadata": {},
   "outputs": [],
   "source": [
    "import pandas as pd\n",
    "from sklearn.impute import SimpleImputer\n",
    "from sklearn.preprocessing import OneHotEncoder, StandardScaler\n",
    "from sklearn.model_selection import train_test_split\n",
    "from sklearn.ensemble import RandomForestClassifier\n",
    "from sklearn.metrics import accuracy_score, classification_report\n"
   ]
  },
  {
   "cell_type": "markdown",
   "id": "5b3512d9",
   "metadata": {},
   "source": [
    "### Handling Null values\n"
   ]
  },
  {
   "cell_type": "code",
   "execution_count": 11,
   "id": "e11057c2",
   "metadata": {},
   "outputs": [],
   "source": [
    "imputer = SimpleImputer(strategy='mean')\n",
    "\n",
    "# Identify columns with missing values (assuming numerical columns in this case)\n",
    "columns_with_null = oilspill_df.columns[oilspill_df.isnull().any()].tolist()\n",
    "\n",
    "# Impute missing values for each column\n",
    "for column in columns_with_null:\n",
    "    oilspill_df[column] = imputer.fit_transform(oilspill_df[[column]])\n"
   ]
  },
  {
   "cell_type": "markdown",
   "id": "83710bc4",
   "metadata": {},
   "source": [
    "### One-Hot Encoding"
   ]
  },
  {
   "cell_type": "code",
   "execution_count": 12,
   "id": "c69c9bcc",
   "metadata": {},
   "outputs": [
    {
     "name": "stdout",
     "output_type": "stream",
     "text": [
      "Column 'categorical_column' not found in the DataFrame.\n"
     ]
    }
   ],
   "source": [
    "# Check if the column exists in the DataFrame\n",
    "if 'categorical_column' in oilspill_df.columns:\n",
    "    # Extract the categorical column\n",
    "    categorical_column = oilspill_df[['categorical_column']]\n",
    "\n",
    "    # Instantiate the OneHotEncoder\n",
    "    encoder = OneHotEncoder()\n",
    "\n",
    "    # Fit and transform the data\n",
    "    encoded_data = encoder.fit_transform(categorical_column).toarray()\n",
    "\n",
    "    # Create a DataFrame with the encoded data\n",
    "    encoded_df = pd.DataFrame(encoded_data, columns=encoder.get_feature_names_out(['categorical_column']))\n",
    "\n",
    "    # Concatenate the original DataFrame with the encoded DataFrame\n",
    "    oilspill_df = pd.concat([oilspill_df, encoded_df], axis=1)\n",
    "\n",
    "    # Drop the original categorical column if needed\n",
    "    oilspill_df.drop(['categorical_column'], axis=1, inplace=True)\n",
    "else:\n",
    "    print(\"Column 'categorical_column' not found in the DataFrame.\")\n"
   ]
  },
  {
   "cell_type": "markdown",
   "id": "b9122012",
   "metadata": {},
   "source": [
    "### Imputation"
   ]
  },
  {
   "cell_type": "code",
   "execution_count": 13,
   "id": "209903a7",
   "metadata": {},
   "outputs": [
    {
     "name": "stdout",
     "output_type": "stream",
     "text": [
      "Column 'numerical_column' not found in the DataFrame.\n"
     ]
    }
   ],
   "source": [
    "# Check if the column exists in the DataFrame\n",
    "if 'numerical_column' in oilspill_df.columns:\n",
    "    # Extract the numerical column\n",
    "    numerical_column = oilspill_df[['numerical_column']]\n",
    "\n",
    "    # Instantiate the SimpleImputer with a chosen strategy (mean, median, most_frequent, etc.)\n",
    "    imputer = SimpleImputer(strategy='mean')\n",
    "\n",
    "    # Impute missing values for the numerical column\n",
    "    oilspill_df['numerical_column'] = imputer.fit_transform(numerical_column)\n",
    "else:\n",
    "    print(\"Column 'numerical_column' not found in the DataFrame.\")\n"
   ]
  },
  {
   "cell_type": "markdown",
   "id": "4412719d",
   "metadata": {},
   "source": [
    "# Q-3 Derive some insights from the dataset\n"
   ]
  },
  {
   "cell_type": "markdown",
   "id": "d3415aeb",
   "metadata": {},
   "source": [
    "### Importing Libraries"
   ]
  },
  {
   "cell_type": "code",
   "execution_count": 16,
   "id": "ace8c60a",
   "metadata": {},
   "outputs": [],
   "source": [
    "import matplotlib.pyplot as plt\n",
    "import seaborn as sns"
   ]
  },
  {
   "cell_type": "markdown",
   "id": "aa609859",
   "metadata": {},
   "source": [
    "### Insights"
   ]
  },
  {
   "cell_type": "code",
   "execution_count": null,
   "id": "51c8a45b",
   "metadata": {},
   "outputs": [
    {
     "data": {
      "image/png": "[encoded data removed]",
      "text/plain": [
       "<Figure size 640x480 with 1 Axes>"
      ]
     },
     "metadata": {},
     "output_type": "display_data"
    }
   ],
   "source": [
    "# Exploratory Data Analysis (EDA)\n",
    "# Visualize the distribution of the target variable\n",
    "sns.countplot(x='target', data=oilspill_df)\n",
    "plt.show()\n",
    "\n",
    "# Explore relationships between features and target variable\n",
    "sns.pairplot(oilspill_df, hue='target')\n",
    "plt.show()"
   ]
  },
  {
   "cell_type": "markdown",
   "id": "1b3bb942",
   "metadata": {},
   "source": [
    " # Q-4 Apply various Machine Learning techniques to predict the output in the              target column, make use of Bagging and Ensemble as required, and find            the best model by evaluating the model using Model evaluation                            techniques.\n"
   ]
  },
  {
   "cell_type": "markdown",
   "id": "1652a4e0",
   "metadata": {},
   "source": [
    "### Importing libraries"
   ]
  },
  {
   "cell_type": "code",
   "execution_count": 14,
   "id": "85ab6027",
   "metadata": {},
   "outputs": [],
   "source": [
    "import pandas as pd\n",
    "from sklearn.model_selection import train_test_split\n",
    "from sklearn.ensemble import RandomForestClassifier, GradientBoostingClassifier\n",
    "from sklearn.ensemble import BaggingClassifier, VotingClassifier\n",
    "from sklearn.metrics import accuracy_score, classification_report\n",
    "from sklearn.tree import DecisionTreeClassifier\n"
   ]
  },
  {
   "cell_type": "markdown",
   "id": "911844e7",
   "metadata": {},
   "source": [
    "### Applying various Machine Learning techniques"
   ]
  },
  {
   "cell_type": "code",
   "execution_count": 15,
   "id": "e2218724",
   "metadata": {},
   "outputs": [],
   "source": [
    "# Split the dataset\n",
    "X = oilspill_df.drop('target', axis=1)\n",
    "y = oilspill_df['target']\n",
    "X_train, X_test, y_train, y_test = train_test_split(X, y, test_size=0.2, random_state=42)\n"
   ]
  },
  {
   "cell_type": "code",
   "execution_count": 16,
   "id": "2ce5259b",
   "metadata": {},
   "outputs": [],
   "source": [
    "# Random Forest Classifier\n",
    "rf_model = RandomForestClassifier()\n",
    "rf_model.fit(X_train, y_train)\n",
    "rf_predictions = rf_model.predict(X_test)\n"
   ]
  },
  {
   "cell_type": "code",
   "execution_count": 17,
   "id": "eb3297ac",
   "metadata": {},
   "outputs": [],
   "source": [
    "# Gradient Boosting Classifier\n",
    "gb_model = GradientBoostingClassifier()\n",
    "gb_model.fit(X_train, y_train)\n",
    "gb_predictions = gb_model.predict(X_test)\n"
   ]
  },
  {
   "cell_type": "markdown",
   "id": "15d4fe3b",
   "metadata": {},
   "source": [
    "### Bagging"
   ]
  },
  {
   "cell_type": "code",
   "execution_count": 18,
   "id": "e4c83983",
   "metadata": {},
   "outputs": [
    {
     "name": "stderr",
     "output_type": "stream",
     "text": [
      "C:\\Users\\himan\\anaconda3\\Lib\\site-packages\\sklearn\\ensemble\\_base.py:166: FutureWarning: `base_estimator` was renamed to `estimator` in version 1.2 and will be removed in 1.4.\n",
      "  warnings.warn(\n"
     ]
    }
   ],
   "source": [
    "# Bagging Classifier (using Decision Tree as base estimator)\n",
    "bagging_model = BaggingClassifier(base_estimator=DecisionTreeClassifier(), n_estimators=10, random_state=42)\n",
    "bagging_model.fit(X_train, y_train)\n",
    "bagging_predictions = bagging_model.predict(X_test)"
   ]
  },
  {
   "cell_type": "markdown",
   "id": "4ff1a367",
   "metadata": {},
   "source": [
    "### Ensemble"
   ]
  },
  {
   "cell_type": "code",
   "execution_count": 19,
   "id": "ea521425",
   "metadata": {},
   "outputs": [],
   "source": [
    "# Ensemble using Voting Classifier (combining Random Forest and Gradient Boosting)\n",
    "ensemble_model = VotingClassifier(estimators=[('RandomForest', rf_model), ('GradientBoosting', gb_model)], voting='hard')\n",
    "ensemble_model.fit(X_train, y_train)\n",
    "ensemble_predictions = ensemble_model.predict(X_test)"
   ]
  },
  {
   "cell_type": "markdown",
   "id": "e2932c69",
   "metadata": {},
   "source": [
    "### Evaluating the model"
   ]
  },
  {
   "cell_type": "code",
   "execution_count": 20,
   "id": "e59d8ce4",
   "metadata": {},
   "outputs": [
    {
     "name": "stdout",
     "output_type": "stream",
     "text": [
      "Model: Random Forest\n",
      "Accuracy: 0.9680851063829787\n",
      "Classification Report:\n",
      "              precision    recall  f1-score   support\n",
      "\n",
      "           0       0.98      0.99      0.98       182\n",
      "           1       0.50      0.33      0.40         6\n",
      "\n",
      "    accuracy                           0.97       188\n",
      "   macro avg       0.74      0.66      0.69       188\n",
      "weighted avg       0.96      0.97      0.96       188\n",
      "\n",
      "------------------------\n",
      "Model: Gradient Boosting\n",
      "Accuracy: 0.9787234042553191\n",
      "Classification Report:\n",
      "              precision    recall  f1-score   support\n",
      "\n",
      "           0       0.99      0.98      0.99       182\n",
      "           1       0.62      0.83      0.71         6\n",
      "\n",
      "    accuracy                           0.98       188\n",
      "   macro avg       0.81      0.91      0.85       188\n",
      "weighted avg       0.98      0.98      0.98       188\n",
      "\n",
      "------------------------\n",
      "Model: Bagging\n",
      "Accuracy: 0.9680851063829787\n",
      "Classification Report:\n",
      "              precision    recall  f1-score   support\n",
      "\n",
      "           0       0.99      0.97      0.98       182\n",
      "           1       0.50      0.83      0.62         6\n",
      "\n",
      "    accuracy                           0.97       188\n",
      "   macro avg       0.75      0.90      0.80       188\n",
      "weighted avg       0.98      0.97      0.97       188\n",
      "\n",
      "------------------------\n",
      "Model: Ensemble\n",
      "Accuracy: 0.973404255319149\n",
      "Classification Report:\n",
      "              precision    recall  f1-score   support\n",
      "\n",
      "           0       0.98      0.99      0.99       182\n",
      "           1       0.67      0.33      0.44         6\n",
      "\n",
      "    accuracy                           0.97       188\n",
      "   macro avg       0.82      0.66      0.72       188\n",
      "weighted avg       0.97      0.97      0.97       188\n",
      "\n",
      "------------------------\n"
     ]
    }
   ],
   "source": [
    " # Evaluate models\n",
    "models = {\n",
    "    'Random Forest': rf_predictions,\n",
    "    'Gradient Boosting': gb_predictions,\n",
    "    'Bagging': bagging_predictions,\n",
    "    'Ensemble': ensemble_predictions\n",
    "}\n",
    "\n",
    "for model_name, predictions in models.items():\n",
    "    accuracy = accuracy_score(y_test, predictions)\n",
    "    report = classification_report(y_test, predictions)\n",
    "    \n",
    "    print(f'Model: {model_name}')\n",
    "    print(f'Accuracy: {accuracy}')\n",
    "    print(f'Classification Report:\\n{report}')\n",
    "    print('------------------------')"
   ]
  },
  {
   "cell_type": "markdown",
   "id": "ac33ef43",
   "metadata": {},
   "source": [
    "# Q-5 Save the best model and Load the model."
   ]
  },
  {
   "cell_type": "code",
   "execution_count": 21,
   "id": "a84c02eb",
   "metadata": {},
   "outputs": [],
   "source": [
    "import joblib\n"
   ]
  },
  {
   "cell_type": "markdown",
   "id": "bd5646b6",
   "metadata": {},
   "source": [
    "### Saving and Loading the best model"
   ]
  },
  {
   "cell_type": "code",
   "execution_count": 22,
   "id": "e47c66e2",
   "metadata": {},
   "outputs": [
    {
     "name": "stdout",
     "output_type": "stream",
     "text": [
      "Best model saved as 'best_model.joblib'\n"
     ]
    }
   ],
   "source": [
    "# Train the Random Forest model (or your best model)\n",
    "best_model = RandomForestClassifier()\n",
    "best_model.fit(X_train, y_train)\n",
    "\n",
    "# Save the best model\n",
    "joblib.dump(best_model, 'best_model.joblib')\n",
    "print(\"Best model saved as 'best_model.joblib'\")\n",
    "\n",
    "# Load the best model\n",
    "loaded_model = joblib.load('best_model.joblib')\n"
   ]
  },
  {
   "cell_type": "markdown",
   "id": "c7a8a316",
   "metadata": {},
   "source": [
    " # Q-6 Take the original data set and make another dataset by randomly picking 20 data points from the oil spill dataset and applying the saved model to the same."
   ]
  },
  {
   "cell_type": "code",
   "execution_count": 23,
   "id": "2743bab7",
   "metadata": {},
   "outputs": [
    {
     "name": "stdout",
     "output_type": "stream",
     "text": [
      "       f_1    f_2      f_3      f_4    f_5        f_6    f_7    f_8      f_9  \\\n",
      "321   29.0  105.0   881.92  1128.79   83.0   262500.0  38.90   8.51   2710.0   \n",
      "70    60.0  111.0  1153.32  1283.44   41.0   277500.0  41.25   5.98   1760.0   \n",
      "209   17.0  867.0  1059.49   581.31   46.0  2167500.0  31.08   8.26  15780.0   \n",
      "656    9.0   85.0    71.06   469.47  140.0   688500.0  70.85  11.28   4626.0   \n",
      "685   38.0   15.0    32.47   582.13  156.0   121500.0  73.27  12.11   1080.0   \n",
      "96    86.0   86.0   769.73  1761.26   55.0   215000.0  37.55   6.27   3090.0   \n",
      "468   36.0  462.0   904.13  2689.99  129.0   649687.0  29.80   8.99   5160.0   \n",
      "86    76.0  128.0  1378.47   929.73   51.0   320000.0  39.80   5.20   3370.0   \n",
      "532   38.0  294.0    11.49  1559.36   40.0   413437.0  38.12  22.22   2893.5   \n",
      "327   37.0   98.0  1326.06  1109.08   72.0   245000.0  41.31   7.53   2880.0   \n",
      "528   34.0  151.0   465.77  1736.15   73.0   212343.0  28.96   8.14   3474.0   \n",
      "247  138.0  144.0  1341.72    78.22  110.0   360000.0  31.12   6.88   4650.0   \n",
      "250  156.0  260.0  1080.89   833.29  111.0   650000.0  30.52   7.95   5680.0   \n",
      "485   53.0   84.0   575.19  1558.81  153.0   118125.0  30.94   8.89   1489.5   \n",
      "467   35.0   74.0   619.18  1622.32    5.0   104062.0  26.45   5.92   1255.5   \n",
      "723   76.0   10.0    30.80   348.90  153.0    81000.0  70.50   8.93    720.0   \n",
      "483   51.0   60.0   743.88  1250.60  127.0    84375.0  33.03  11.87   1701.5   \n",
      "886  154.0   10.0   182.50   460.00   90.0    81000.0  57.60   8.68    810.0   \n",
      "809   77.0   13.0   160.77   420.23   63.0   105300.0  51.15  10.66   1191.0   \n",
      "244  118.0  308.0  1313.18   791.35   61.0   770000.0  29.13   7.14   5880.0   \n",
      "0      NaN    NaN      NaN      NaN    NaN        NaN    NaN    NaN      NaN   \n",
      "1      NaN    NaN      NaN      NaN    NaN        NaN    NaN    NaN      NaN   \n",
      "2      NaN    NaN      NaN      NaN    NaN        NaN    NaN    NaN      NaN   \n",
      "3      NaN    NaN      NaN      NaN    NaN        NaN    NaN    NaN      NaN   \n",
      "4      NaN    NaN      NaN      NaN    NaN        NaN    NaN    NaN      NaN   \n",
      "5      NaN    NaN      NaN      NaN    NaN        NaN    NaN    NaN      NaN   \n",
      "6      NaN    NaN      NaN      NaN    NaN        NaN    NaN    NaN      NaN   \n",
      "7      NaN    NaN      NaN      NaN    NaN        NaN    NaN    NaN      NaN   \n",
      "8      NaN    NaN      NaN      NaN    NaN        NaN    NaN    NaN      NaN   \n",
      "9      NaN    NaN      NaN      NaN    NaN        NaN    NaN    NaN      NaN   \n",
      "10     NaN    NaN      NaN      NaN    NaN        NaN    NaN    NaN      NaN   \n",
      "11     NaN    NaN      NaN      NaN    NaN        NaN    NaN    NaN      NaN   \n",
      "12     NaN    NaN      NaN      NaN    NaN        NaN    NaN    NaN      NaN   \n",
      "13     NaN    NaN      NaN      NaN    NaN        NaN    NaN    NaN      NaN   \n",
      "14     NaN    NaN      NaN      NaN    NaN        NaN    NaN    NaN      NaN   \n",
      "15     NaN    NaN      NaN      NaN    NaN        NaN    NaN    NaN      NaN   \n",
      "16     NaN    NaN      NaN      NaN    NaN        NaN    NaN    NaN      NaN   \n",
      "17     NaN    NaN      NaN      NaN    NaN        NaN    NaN    NaN      NaN   \n",
      "18     NaN    NaN      NaN      NaN    NaN        NaN    NaN    NaN      NaN   \n",
      "19     NaN    NaN      NaN      NaN    NaN        NaN    NaN    NaN      NaN   \n",
      "\n",
      "     f_10  ...     f_41     f_42    f_43    f_44   f_45  f_46      f_47  \\\n",
      "321  0.22  ...   955.25   353.55  226.91   84.74   4.21   0.0   3425.75   \n",
      "70   0.14  ...   710.63   500.00  296.40  140.92   2.40   0.0   5915.80   \n",
      "209  0.27  ...  3146.82  1131.37  637.97  408.01   4.93   0.0   5679.31   \n",
      "656  0.16  ...  1279.14   509.12  323.98   87.51   3.95   0.0   6376.53   \n",
      "685  0.17  ...   685.42   201.25  105.89   84.66   6.47   0.0   3285.95   \n",
      "96   0.17  ...  1400.89   180.28   93.84   59.34  14.93   1.0  15720.91   \n",
      "468  0.30  ...     0.00     0.00    0.00    0.00   0.00   0.0  40916.70   \n",
      "86   0.13  ...  1350.93   320.16  160.29   94.32   8.43   0.0   9183.53   \n",
      "532  0.58  ...     0.00     0.00    0.00    0.00   0.00   0.0  10484.87   \n",
      "327  0.18  ...   728.01   269.26  196.00   33.61   3.71   0.0   7233.16   \n",
      "528  0.28  ...     0.00     0.00    0.00    0.00   0.00   0.0   8415.67   \n",
      "247  0.22  ...  1691.89   254.95  147.30   60.43  11.49   1.0   6824.45   \n",
      "250  0.26  ...  1820.03   632.46  307.02  161.45   5.93   0.0   4667.21   \n",
      "485  0.29  ...     0.00     0.00    0.00    0.00   0.00   0.0  10674.79   \n",
      "467  0.22  ...     0.00     0.00    0.00    0.00   0.00   0.0  11277.47   \n",
      "723  0.13  ...   324.50   254.56   84.85  146.97   3.82   0.0  11172.62   \n",
      "483  0.36  ...   375.00   375.00  127.08  109.90   2.95   0.0   9370.56   \n",
      "886  0.15  ...   360.00    90.00   90.00    0.00   4.00   0.0   6004.08   \n",
      "809  0.21  ...   524.79   127.28   25.46   56.92  20.62   0.0   3719.47   \n",
      "244  0.24  ...  1588.24   738.24  370.16  181.66   4.29   0.0   6636.30   \n",
      "0     NaN  ...      NaN      NaN     NaN     NaN    NaN   NaN       NaN   \n",
      "1     NaN  ...      NaN      NaN     NaN     NaN    NaN   NaN       NaN   \n",
      "2     NaN  ...      NaN      NaN     NaN     NaN    NaN   NaN       NaN   \n",
      "3     NaN  ...      NaN      NaN     NaN     NaN    NaN   NaN       NaN   \n",
      "4     NaN  ...      NaN      NaN     NaN     NaN    NaN   NaN       NaN   \n",
      "5     NaN  ...      NaN      NaN     NaN     NaN    NaN   NaN       NaN   \n",
      "6     NaN  ...      NaN      NaN     NaN     NaN    NaN   NaN       NaN   \n",
      "7     NaN  ...      NaN      NaN     NaN     NaN    NaN   NaN       NaN   \n",
      "8     NaN  ...      NaN      NaN     NaN     NaN    NaN   NaN       NaN   \n",
      "9     NaN  ...      NaN      NaN     NaN     NaN    NaN   NaN       NaN   \n",
      "10    NaN  ...      NaN      NaN     NaN     NaN    NaN   NaN       NaN   \n",
      "11    NaN  ...      NaN      NaN     NaN     NaN    NaN   NaN       NaN   \n",
      "12    NaN  ...      NaN      NaN     NaN     NaN    NaN   NaN       NaN   \n",
      "13    NaN  ...      NaN      NaN     NaN     NaN    NaN   NaN       NaN   \n",
      "14    NaN  ...      NaN      NaN     NaN     NaN    NaN   NaN       NaN   \n",
      "15    NaN  ...      NaN      NaN     NaN     NaN    NaN   NaN       NaN   \n",
      "16    NaN  ...      NaN      NaN     NaN     NaN    NaN   NaN       NaN   \n",
      "17    NaN  ...      NaN      NaN     NaN     NaN    NaN   NaN       NaN   \n",
      "18    NaN  ...      NaN      NaN     NaN     NaN    NaN   NaN       NaN   \n",
      "19    NaN  ...      NaN      NaN     NaN     NaN    NaN   NaN       NaN   \n",
      "\n",
      "      f_48   f_49  predicted_label  \n",
      "321  65.97   7.04              NaN  \n",
      "70   66.12   7.34              NaN  \n",
      "209  65.74   7.42              NaN  \n",
      "656  65.98   6.22              NaN  \n",
      "685  66.11   5.98              NaN  \n",
      "96   66.30   6.71              NaN  \n",
      "468  36.71  14.53              NaN  \n",
      "86   65.98   7.73              NaN  \n",
      "532  36.02  14.82              NaN  \n",
      "327  66.02   7.54              NaN  \n",
      "528  36.35  14.83              NaN  \n",
      "247  65.55   7.90              NaN  \n",
      "250  65.86   7.36              NaN  \n",
      "485  36.41  14.92              NaN  \n",
      "467  36.44  14.90              NaN  \n",
      "723  65.80   6.22              NaN  \n",
      "483  36.51  15.08              NaN  \n",
      "886  66.01   6.58              NaN  \n",
      "809  65.95   6.55              NaN  \n",
      "244  65.87   7.63              NaN  \n",
      "0      NaN    NaN              0.0  \n",
      "1      NaN    NaN              0.0  \n",
      "2      NaN    NaN              0.0  \n",
      "3      NaN    NaN              0.0  \n",
      "4      NaN    NaN              0.0  \n",
      "5      NaN    NaN              0.0  \n",
      "6      NaN    NaN              0.0  \n",
      "7      NaN    NaN              0.0  \n",
      "8      NaN    NaN              0.0  \n",
      "9      NaN    NaN              0.0  \n",
      "10     NaN    NaN              0.0  \n",
      "11     NaN    NaN              0.0  \n",
      "12     NaN    NaN              0.0  \n",
      "13     NaN    NaN              0.0  \n",
      "14     NaN    NaN              0.0  \n",
      "15     NaN    NaN              0.0  \n",
      "16     NaN    NaN              0.0  \n",
      "17     NaN    NaN              0.0  \n",
      "18     NaN    NaN              0.0  \n",
      "19     NaN    NaN              0.0  \n",
      "\n",
      "[40 rows x 50 columns]\n"
     ]
    }
   ],
   "source": [
    "# Randomly pick 20 data points from the original dataset\n",
    "random_sample = oilspill_df.sample(n=20, random_state=42)\n",
    "\n",
    "# Extract features from the random sample (excluding the target column)\n",
    "X_random_sample = random_sample.drop('target', axis=1)\n",
    "\n",
    "# Apply the saved model to make predictions\n",
    "predictions = loaded_model.predict(X_random_sample)\n",
    "\n",
    "# Display the original features and predicted labels\n",
    "result_df = pd.concat([X_random_sample, pd.Series(predictions, name='predicted_label')], axis=1)\n",
    "print(result_df)\n"
   ]
  },
  {
   "cell_type": "code",
   "execution_count": null,
   "id": "ea90973e",
   "metadata": {},
   "outputs": [],
   "source": []
  }
 ],
 "metadata": {
  "kernelspec": {
   "display_name": "Python 3 (ipykernel)",
   "language": "python",
   "name": "python3"
  },
  "language_info": {
   "codemirror_mode": {
    "name": "ipython",
    "version": 3
   },
   "file_extension": ".py",
   "mimetype": "text/x-python",
   "name": "python",
   "nbconvert_exporter": "python",
   "pygments_lexer": "ipython3",
   "version": "3.11.3"
  }
 },
 "nbformat": 4,
 "nbformat_minor": 5
}
